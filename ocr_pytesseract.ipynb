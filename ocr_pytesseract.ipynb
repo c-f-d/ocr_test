{
 "cells": [
  {
   "cell_type": "code",
   "execution_count": 5,
   "metadata": {},
   "outputs": [],
   "source": [
    "try:\n",
    "    from PIL import Image\n",
    "except ImportError:\n",
    "    import Image\n",
    "import pytesseract\n",
    "import cv2"
   ]
  },
  {
   "cell_type": "code",
   "execution_count": 39,
   "metadata": {},
   "outputs": [
    {
     "data": {
      "text/plain": [
       "LooseVersion ('4.1.1')"
      ]
     },
     "execution_count": 39,
     "metadata": {},
     "output_type": "execute_result"
    }
   ],
   "source": [
    "pytesseract.get_tesseract_version()"
   ]
  },
  {
   "cell_type": "code",
   "execution_count": 32,
   "metadata": {},
   "outputs": [
    {
     "name": "stdout",
     "output_type": "stream",
     "text": [
      "The prompt will show that it is “solving environment”. It takes quite a bit of\n",
      "time if you are on slower Internet connection.\n",
      "\f",
      "\n"
     ]
    }
   ],
   "source": [
    "img_cv = cv2.imread(r'test_screenshot.png')\n",
    "img_rgb = cv2.cvtColor(img_cv, cv2.COLOR_BGR2RGB)\n",
    "# language: default\n",
    "print(pytesseract.image_to_string(img_rgb, config='--psm 6 --oem 3'))"
   ]
  },
  {
   "cell_type": "code",
   "execution_count": 35,
   "metadata": {},
   "outputs": [
    {
     "name": "stdout",
     "output_type": "stream",
     "text": [
      "Hauptblatt\n",
      "1. 1. Gibt es Situationen, in denen Sie nicht weiterleben wollen, sondern alle\n",
      "lebenserhaltenden Maßnahmen ablehnen?\n",
      "Gegebenenfalls Beiblatt 1 ausfüllen\n",
      "Markieren Sie nur ein Oval.\n",
      "(3 Ja, es mag Situationen geben, in denen ich nicht weiterleben möchte (Beiblatt 1)\n",
      "( Nein, ich würde immer und unter allen Umständen leben wollen.\n",
      "2. 2. Aus welchem Anlass verfassen Sie heute Ihre Patientenverfügung?\n",
      "Gegebenenfalls Frage 2-1 überspringen\n",
      "Markieren Sie nur ein Oval.\n",
      "(__) Allgemeine Vorsorgemaßnahme (2-1 überspringen)\n",
      "(__ Bei mir ist eine medizinische Behandlung geplant (2-1 überspringen)\n",
      "{ ) Konkrete Vorsorgemaßnahme (2-1 ausfüllen)\n",
      "(__) Sonstige (2-1 ausfüllen)\n",
      "3. 2-1. Bitte beschreiben Sie den Anlass zum Verfassen Ihrer Patientenverfügung.\n",
      "Nur ausfüllen, wenn Sie bei Frage 2 die Antwort \"Konkrete Vorsorgemaßnahme\" oder \"Sonstige\" ausgewählt haben\n",
      "sr na Vs nn Sl\n",
      "\f",
      "\n"
     ]
    }
   ],
   "source": [
    "img_cv = cv2.imread(r'hauptblatt_1_blank.JPG')\n",
    "img_rgb = cv2.cvtColor(img_cv, cv2.COLOR_BGR2RGB)\n",
    "# language: deutsch\n",
    "print(pytesseract.image_to_string(img_rgb, lang='deu', config='--psm 6 --oem 3'))"
   ]
  },
  {
   "cell_type": "code",
   "execution_count": 36,
   "metadata": {},
   "outputs": [
    {
     "name": "stdout",
     "output_type": "stream",
     "text": [
      "4. 3. Wie schätzen Sie Ihre aktuelle gesundheitliche Situation ein?\n",
      "Gegebenenfalls Frage 3-1 überspringen\n",
      "Markieren Sie nur ein Oval.\n",
      "(__J Ich befinde mich in guter Gesundheit (3-1 überspringen)\n",
      "CB Eine chronische Krankheit schränkt mich ein (3-1 überspringen)\n",
      "(_) Ich leide an einer schweren und unheilbaren Krankheit (3-1 überspringen)\n",
      "(__) Sonstige (3-1 ausfüllen)\n",
      "5. 3-1. Bitte beschreiben Sie, wie sie ihre aktuelle Gesundheit einschätzen:\n",
      "Nur ausfüllen, wenn Sie bei Frage 3 die Antwort \"Sonstige\" ausgewählt haben\n",
      "6. 4.Sind Sie auf Pflege oder Unterstützung im Alltag angewiesen?\n",
      "Gegebenenfalls Frage 4-1 überspringen\n",
      "Markieren Sie nur ein Oval.\n",
      "(__) Ja, und ich habe einen Pflegegrad (4-1 ausfüllen)\n",
      "(__) Ja, aber ich habe keinen Pflegegrad (4-1 überspringen)\n",
      "@i Ich bin auf keinerlei Unterstützung im Alltag angewiesen (4-1 überspringen)\n",
      "7. 4-1. Bitte geben Sie Ihren akutellen Pflegegrad an\n",
      "Nur ausfüllen, wenn Sie bei Frage 4 die Antwort \"Ja, ich habe einen Pflegegrad\" ausgewählt haben\n",
      "Markieren Sie nur ein Oval,\n",
      "1 2 3 4\n",
      "_ Ole |\n",
      "\f",
      "\n"
     ]
    }
   ],
   "source": [
    "img_cv = cv2.imread(r'hauptblatt_2_blank.JPG')\n",
    "img_rgb = cv2.cvtColor(img_cv, cv2.COLOR_BGR2RGB)\n",
    "# language: deutsch\n",
    "print(pytesseract.image_to_string(img_rgb, lang='deu', config='--psm 6 --oem 3'))"
   ]
  },
  {
   "cell_type": "code",
   "execution_count": 37,
   "metadata": {},
   "outputs": [
    {
     "name": "stdout",
     "output_type": "stream",
     "text": [
      "meditag Patientenverfügung\n",
      "Hauptblatt\n",
      "\n",
      "1. 1. Gibt es Situationen, in denen Sie nicht weiterleben wollen, sondern alle\n",
      "\n",
      "lebenserhaltenden Maßnahmen ablehnen?\n",
      "\n",
      "Gegebenenfalls Beiblatt 1 ausfüllen\n",
      "\n",
      "Markieren Sie nur ein Oval.\n",
      "\n",
      "SO Ja, es mag Situationen geben, in denen ich nicht weiterleben möchte (Beiblatt 1)\n",
      "\n",
      "Ge Nein, ich würde immer und unter allen Umständen leben wollen.\n",
      "2. 2. Aus welchem Anlass verfassen Sie heute Ihre Patientenverfügung?\n",
      "\n",
      "Gegebenenfalls Frage 2-1 überspringen\n",
      "\n",
      "Markieren Sie nur ein Oval.\n",
      "\n",
      "(_) Allgemeine Vorsorgemaßnahme (2-1 überspringen)\n",
      "\n",
      "N) Bei mir ist eine medizinische Behandlung geplant (2-1 überspringen)\n",
      "\n",
      "(_) Konkrete Vorsorgemaßnahme (2-1 ausfüllen)\n",
      "\n",
      "{ ) Sonstige (2-1 ausfüllen)\n",
      "3. 2-1. Bitte beschreiben Sie den Anlass zum Verfassen Ihrer Patientenverfügung.\n",
      "\n",
      "Nur ausfüllen, wenn Sie bei Frage 2 die Antwort \"Konkrete Vorsorgemaßnahme\" oder \"Sonstige\" ausgewählt haben\n",
      "\n",
      "ot an. 0 nn\n",
      "\n",
      "eh Fesle dessacht N wa a u\n",
      "EH BESTE TESBERCT., 0 tue ou\n",
      "\f",
      "\n"
     ]
    }
   ],
   "source": [
    "img_cv = cv2.imread(r'hauptblatt_1_filled.JPG')\n",
    "img_rgb = cv2.cvtColor(img_cv, cv2.COLOR_BGR2RGB)\n",
    "# language: deutsch\n",
    "print(pytesseract.image_to_string(img_rgb, lang='deu', config='--psm 6 --oem 3'))"
   ]
  },
  {
   "cell_type": "code",
   "execution_count": 38,
   "metadata": {},
   "outputs": [
    {
     "name": "stdout",
     "output_type": "stream",
     "text": [
      "4. 3.Wie schätzen Sie Ihre aktuelle gesundheitliche Situation ein?\n",
      "Gegebenenfalls Frage 3-1 überspringen\n",
      "Markieren Sie nur ein Oval.\n",
      "(__) Ich befinde mich in guter Gesundheit (3-1 überspringen)\n",
      "(__) Eine chronische Krankheit schränkt mich ein (3-1 überspringen)\n",
      "(__) Ich leide an einer schweren und unheilbaren Krankheit (3-1 überspringen)\n",
      "X Sonstige (3-1 ausfüllen)\n",
      "5. 3-1. Bitte beschreiben Sie, wie sie ihre aktuelle Gesundheit einschätzen:\n",
      "Nur ausfüllen, wenn Sie bei Frage 3 die Antwort \"Sonstige\" ausgewählt haben\n",
      "Mein aktueller Gesunolbertturtaucl 4 Peperededleled\n",
      "2. GEuT Es SEVEN SO a an an\n",
      "6. 4.Sind Sie auf Pflege oder Unterstützung im Alltag angewiesen?\n",
      "Gegebenenfalls Frage 4-1 überspringen\n",
      "Markieren Sie nur ein Oval.\n",
      "X Ja, und ich habe einen Pflegegrad (4-1 ausfüllen)\n",
      "( ) Ja, aber ich habe keinen Pflegegrad (4-1 überspringen)\n",
      "©) Ich bin auf keinerlei Unterstützung im Alltag angewiesen (4-1 überspringen)\n",
      "7. 4-1. Bitte geben Sie Ihren akutellen Pflegegrad an\n",
      "Nur ausfüllen, wenn Sie bei Frage 4 die Antwort \"Ja, ich habe einen Pflegegrad' ausgewählt haben\n",
      "Markieren Sie nur ein Oval.\n",
      "1 2 3 4\n",
      "aD Ce\n",
      "\f",
      "\n"
     ]
    }
   ],
   "source": [
    "img_cv = cv2.imread(r'hauptblatt_2_filled.JPG')\n",
    "img_rgb = cv2.cvtColor(img_cv, cv2.COLOR_BGR2RGB)\n",
    "# language: deutsch\n",
    "print(pytesseract.image_to_string(img_rgb, lang='deu', config='--psm 6 --oem 3'))"
   ]
  }
 ],
 "metadata": {
  "kernelspec": {
   "display_name": "Python 3",
   "language": "python",
   "name": "python3"
  },
  "language_info": {
   "codemirror_mode": {
    "name": "ipython",
    "version": 3
   },
   "file_extension": ".py",
   "mimetype": "text/x-python",
   "name": "python",
   "nbconvert_exporter": "python",
   "pygments_lexer": "ipython3",
   "version": "3.9.2"
  },
  "toc": {
   "base_numbering": 1,
   "nav_menu": {},
   "number_sections": true,
   "sideBar": true,
   "skip_h1_title": false,
   "title_cell": "Table of Contents",
   "title_sidebar": "Contents",
   "toc_cell": false,
   "toc_position": {},
   "toc_section_display": true,
   "toc_window_display": false
  },
  "varInspector": {
   "cols": {
    "lenName": 16,
    "lenType": 16,
    "lenVar": 40
   },
   "kernels_config": {
    "python": {
     "delete_cmd_postfix": "",
     "delete_cmd_prefix": "del ",
     "library": "var_list.py",
     "varRefreshCmd": "print(var_dic_list())"
    },
    "r": {
     "delete_cmd_postfix": ") ",
     "delete_cmd_prefix": "rm(",
     "library": "var_list.r",
     "varRefreshCmd": "cat(var_dic_list()) "
    }
   },
   "types_to_exclude": [
    "module",
    "function",
    "builtin_function_or_method",
    "instance",
    "_Feature"
   ],
   "window_display": false
  }
 },
 "nbformat": 4,
 "nbformat_minor": 2
}
